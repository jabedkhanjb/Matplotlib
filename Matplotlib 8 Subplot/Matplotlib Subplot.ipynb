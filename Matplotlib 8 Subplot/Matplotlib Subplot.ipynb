{
 "cells": [
  {
   "cell_type": "markdown",
   "id": "e22c50c0",
   "metadata": {},
   "source": [
    "# Display Multiple Plots\n",
    "\n",
    "With the subplot() function you can draw multiple plots in one figure:"
   ]
  },
  {
   "cell_type": "code",
   "execution_count": null,
   "id": "9293434f",
   "metadata": {},
   "outputs": [],
   "source": [
    "import matplotlib.pyplot as plt\n",
    "import numpy as np\n",
    "\n",
    "# plot 1\n"
   ]
  }
 ],
 "metadata": {
  "kernelspec": {
   "display_name": "Python 3 (ipykernel)",
   "language": "python",
   "name": "python3"
  },
  "language_info": {
   "codemirror_mode": {
    "name": "ipython",
    "version": 3
   },
   "file_extension": ".py",
   "mimetype": "text/x-python",
   "name": "python",
   "nbconvert_exporter": "python",
   "pygments_lexer": "ipython3",
   "version": "3.9.13"
  }
 },
 "nbformat": 4,
 "nbformat_minor": 5
}
