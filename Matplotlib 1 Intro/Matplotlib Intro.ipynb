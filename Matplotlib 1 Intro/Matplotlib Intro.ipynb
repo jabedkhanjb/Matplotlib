{
 "cells": [
  {
   "cell_type": "markdown",
   "id": "00ae042f",
   "metadata": {},
   "source": [
    "# What is Matplotlib?\n",
    "\n",
    "Matplotlib is a low level graph plotting library in python that serves as a visualization utility.\n",
    "\n",
    "Matplotlib was created by John D. Hunter.\n",
    "\n",
    "Matplotlib is open source and we can use it freely.\n",
    "\n",
    "Matplotlib is mostly written in python, a few segments are written in C, Objective-C and Javascript for Platform compatibility."
   ]
  },
  {
   "cell_type": "markdown",
   "id": "e44d490e",
   "metadata": {},
   "source": [
    "# Where is the Matplotlib Codebase?\n",
    "\n",
    "The source code for Matplotlib is located at this github repository https://github.com/matplotlib/matplotlib"
   ]
  },
  {
   "cell_type": "markdown",
   "id": "94ca0c03",
   "metadata": {},
   "source": [
    "# Matplotlib Getting Started"
   ]
  },
  {
   "cell_type": "markdown",
   "id": "904ed721",
   "metadata": {},
   "source": [
    "# Installation of Matplotlib\n",
    "\n",
    "If you have Python and PIP already installed on a system, then installation of Matplotlib is very easy.\n",
    "\n",
    "Install it using this command:"
   ]
  },
  {
   "cell_type": "markdown",
   "id": "a63d2c1f",
   "metadata": {},
   "source": [
    "<i><b>\n",
    "C:\\Users\\Your Name>pip install matplotlib\n",
    "</b></i>"
   ]
  },
  {
   "cell_type": "markdown",
   "id": "b2764b83",
   "metadata": {},
   "source": [
    "If this command fails, then use a python distribution that already has Matplotlib installed,  like Anaconda, Spyder etc."
   ]
  },
  {
   "cell_type": "markdown",
   "id": "d8cd41f4",
   "metadata": {},
   "source": [
    "# Import Matplotlib\n",
    "\n",
    "Once Matplotlib is installed, import it in your applications by adding the <b>import module</b> statement:"
   ]
  },
  {
   "cell_type": "code",
   "execution_count": 2,
   "id": "ca6a773f",
   "metadata": {},
   "outputs": [],
   "source": [
    "import matplotlib"
   ]
  },
  {
   "cell_type": "markdown",
   "id": "8a916823",
   "metadata": {},
   "source": [
    "Now Matplotlib is imported and ready to use:"
   ]
  },
  {
   "cell_type": "markdown",
   "id": "78d4bbb6",
   "metadata": {},
   "source": [
    "# Checking Matplotlib Version\n",
    "\n",
    "The version string is stored under <b>__ +version+ __</b> attribute."
   ]
  },
  {
   "cell_type": "code",
   "execution_count": 3,
   "id": "04c9a5ba",
   "metadata": {},
   "outputs": [
    {
     "name": "stdout",
     "output_type": "stream",
     "text": [
      "3.5.2\n"
     ]
    }
   ],
   "source": [
    "import matplotlib\n",
    "\n",
    "print(matplotlib.__version__)"
   ]
  },
  {
   "cell_type": "markdown",
   "id": "806c6c40",
   "metadata": {},
   "source": [
    "Note: two underscore characters are used in <b>__ +version+ __</b>."
   ]
  },
  {
   "cell_type": "code",
   "execution_count": null,
   "id": "54adadee",
   "metadata": {},
   "outputs": [],
   "source": []
  }
 ],
 "metadata": {
  "kernelspec": {
   "display_name": "Python 3 (ipykernel)",
   "language": "python",
   "name": "python3"
  },
  "language_info": {
   "codemirror_mode": {
    "name": "ipython",
    "version": 3
   },
   "file_extension": ".py",
   "mimetype": "text/x-python",
   "name": "python",
   "nbconvert_exporter": "python",
   "pygments_lexer": "ipython3",
   "version": "3.9.13"
  }
 },
 "nbformat": 4,
 "nbformat_minor": 5
}
