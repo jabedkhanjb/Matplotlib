{
 "cells": [
  {
   "cell_type": "markdown",
   "id": "edafe475",
   "metadata": {},
   "source": [
    "# Matplotlib Pyplot"
   ]
  },
  {
   "cell_type": "markdown",
   "id": "3cfe80ca",
   "metadata": {},
   "source": [
    "##### @jabedkhanjb"
   ]
  },
  {
   "cell_type": "markdown",
   "id": "89bb2b9a",
   "metadata": {},
   "source": [
    "# Pyplot\n",
    "\n",
    "Most of the Matplotlib utilities lies under the <b>pyplot</b> submodule, and are usually imported under the <b>plt</b> alias:"
   ]
  },
  {
   "cell_type": "code",
   "execution_count": null,
   "id": "bf4d4377",
   "metadata": {},
   "outputs": [],
   "source": []
  }
 ],
 "metadata": {
  "kernelspec": {
   "display_name": "Python 3 (ipykernel)",
   "language": "python",
   "name": "python3"
  },
  "language_info": {
   "codemirror_mode": {
    "name": "ipython",
    "version": 3
   },
   "file_extension": ".py",
   "mimetype": "text/x-python",
   "name": "python",
   "nbconvert_exporter": "python",
   "pygments_lexer": "ipython3",
   "version": "3.9.13"
  }
 },
 "nbformat": 4,
 "nbformat_minor": 5
}
